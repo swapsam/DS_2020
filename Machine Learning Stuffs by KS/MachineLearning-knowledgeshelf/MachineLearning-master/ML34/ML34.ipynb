{
 "cells": [
  {
   "cell_type": "code",
   "execution_count": 5,
   "metadata": {},
   "outputs": [],
   "source": [
    "import pandas as pd\n",
    "\n",
    "pokemon = pd.read_csv(\"pokemon.csv\",usecols=[\"Pokemon\"],squeeze=True)\n"
   ]
  },
  {
   "cell_type": "code",
   "execution_count": 13,
   "metadata": {},
   "outputs": [
    {
     "data": {
      "text/plain": [
       "717      Zygarde\n",
       "633     Zweilous\n",
       "40         Zubat\n",
       "569        Zorua\n",
       "570      Zoroark\n",
       "262    Zigzagoon\n",
       "Name: Pokemon, dtype: object"
      ]
     },
     "execution_count": 13,
     "metadata": {},
     "output_type": "execute_result"
    }
   ],
   "source": [
    "pokemon.sort_values().head(10)\n",
    "\n",
    "pokemon.sort_values(ascending=False).head(6)"
   ]
  },
  {
   "cell_type": "code",
   "execution_count": 53,
   "metadata": {},
   "outputs": [
    {
     "data": {
      "text/plain": [
       "0    50.12\n",
       "1    54.10\n",
       "2    54.65\n",
       "3    52.38\n",
       "4    52.95\n",
       "Name: Stock Price, dtype: float64"
      ]
     },
     "execution_count": 53,
     "metadata": {},
     "output_type": "execute_result"
    }
   ],
   "source": [
    "google = pd.read_csv(\"google_stock_price.csv\",squeeze=True)\n",
    "google.head()\n",
    "\n",
    "\n"
   ]
  },
  {
   "cell_type": "code",
   "execution_count": 22,
   "metadata": {},
   "outputs": [
    {
     "data": {
      "text/plain": [
       "11    49.95\n",
       "9     50.07\n",
       "0     50.12\n",
       "10    50.70\n",
       "12    50.74\n",
       "Name: Stock Price, dtype: float64"
      ]
     },
     "execution_count": 22,
     "metadata": {},
     "output_type": "execute_result"
    }
   ],
   "source": [
    "google = google.sort_values()\n",
    "google.head()"
   ]
  },
  {
   "cell_type": "code",
   "execution_count": 58,
   "metadata": {},
   "outputs": [
    {
     "data": {
      "text/plain": [
       "3011    782.22\n",
       "2859    776.60\n",
       "3009    773.18\n",
       "3007    772.88\n",
       "3010    771.61\n",
       "3008    771.07\n",
       "2860    771.00\n",
       "3006    768.79\n",
       "2840    767.04\n",
       "2843    766.81\n",
       "2934    766.61\n",
       "2882    764.65\n",
       "2844    763.25\n",
       "2858    762.51\n",
       "2841    762.38\n",
       "2845    762.37\n",
       "2937    759.14\n",
       "2933    759.00\n",
       "2861    758.88\n",
       "2851    758.09\n",
       "2834    756.60\n",
       "2835    755.98\n",
       "2935    753.93\n",
       "2932    753.20\n",
       "2936    752.67\n",
       "2842    752.54\n",
       "2881    752.00\n",
       "2931    751.72\n",
       "2846    751.61\n",
       "2921    750.53\n",
       "         ...  \n",
       "28       65.47\n",
       "29       64.74\n",
       "27       63.37\n",
       "24       60.35\n",
       "25       59.86\n",
       "21       59.62\n",
       "23       59.13\n",
       "26       59.07\n",
       "22       58.86\n",
       "20       58.69\n",
       "19       56.93\n",
       "18       55.94\n",
       "17       55.69\n",
       "2        54.65\n",
       "1        54.10\n",
       "5        53.90\n",
       "16       53.70\n",
       "6        53.02\n",
       "4        52.95\n",
       "15       52.61\n",
       "3        52.38\n",
       "8        51.13\n",
       "13       51.10\n",
       "14       51.10\n",
       "7        50.95\n",
       "12       50.74\n",
       "10       50.70\n",
       "0        50.12\n",
       "9        50.07\n",
       "11       49.95\n",
       "Name: Stock Price, Length: 3012, dtype: float64"
      ]
     },
     "execution_count": 58,
     "metadata": {},
     "output_type": "execute_result"
    }
   ],
   "source": [
    "google.sort_values(ascending=False, inplace=True)\n",
    "google"
   ]
  }
 ],
 "metadata": {
  "kernelspec": {
   "display_name": "Python 3",
   "language": "python",
   "name": "python3"
  },
  "language_info": {
   "codemirror_mode": {
    "name": "ipython",
    "version": 3
   },
   "file_extension": ".py",
   "mimetype": "text/x-python",
   "name": "python",
   "nbconvert_exporter": "python",
   "pygments_lexer": "ipython3",
   "version": "3.7.1"
  }
 },
 "nbformat": 4,
 "nbformat_minor": 2
}
