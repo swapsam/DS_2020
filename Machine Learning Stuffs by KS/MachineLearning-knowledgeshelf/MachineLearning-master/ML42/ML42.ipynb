{
 "cells": [
  {
   "cell_type": "code",
   "execution_count": 4,
   "metadata": {},
   "outputs": [
    {
     "data": {
      "text/plain": [
       "0    50.12\n",
       "1    54.10\n",
       "2    54.65\n",
       "3    52.38\n",
       "4    52.95\n",
       "Name: Stock Price, dtype: float64"
      ]
     },
     "execution_count": 4,
     "metadata": {},
     "output_type": "execute_result"
    }
   ],
   "source": [
    "import pandas as pd\n",
    "\n",
    "google = pd.read_csv(\"google_stock_price.csv\", squeeze=True)\n",
    "\n",
    "google.head()"
   ]
  },
  {
   "cell_type": "code",
   "execution_count": 5,
   "metadata": {},
   "outputs": [],
   "source": [
    "def classify_per(number):\n",
    "    if number<300:\n",
    "        return \"OK\"\n",
    "    elif number >= 300 and number < 650:\n",
    "        return \"Satisfactory\"\n",
    "    else:\n",
    "        return \"Inredible\"\n",
    "    \n",
    "    "
   ]
  },
  {
   "cell_type": "code",
   "execution_count": 7,
   "metadata": {},
   "outputs": [
    {
     "data": {
      "text/plain": [
       "3001    Inredible\n",
       "3002    Inredible\n",
       "3003    Inredible\n",
       "3004    Inredible\n",
       "3005    Inredible\n",
       "3006    Inredible\n",
       "3007    Inredible\n",
       "3008    Inredible\n",
       "3009    Inredible\n",
       "3010    Inredible\n",
       "3011    Inredible\n",
       "Name: Stock Price, dtype: object"
      ]
     },
     "execution_count": 7,
     "metadata": {},
     "output_type": "execute_result"
    }
   ],
   "source": [
    "google.apply(classify_per).tail(11)"
   ]
  },
  {
   "cell_type": "code",
   "execution_count": 10,
   "metadata": {},
   "outputs": [
    {
     "data": {
      "text/plain": [
       "0        51.12\n",
       "1        55.10\n",
       "2        55.65\n",
       "3        53.38\n",
       "4        53.95\n",
       "5        54.90\n",
       "6        54.02\n",
       "7        51.95\n",
       "8        52.13\n",
       "9        51.07\n",
       "10       51.70\n",
       "11       50.95\n",
       "12       51.74\n",
       "13       52.10\n",
       "14       52.10\n",
       "15       53.61\n",
       "16       54.70\n",
       "17       56.69\n",
       "18       56.94\n",
       "19       57.93\n",
       "20       59.69\n",
       "21       60.62\n",
       "22       59.86\n",
       "23       60.13\n",
       "24       61.35\n",
       "25       60.86\n",
       "26       60.07\n",
       "27       64.37\n",
       "28       66.47\n",
       "29       65.74\n",
       "         ...  \n",
       "2982    676.22\n",
       "2983    669.26\n",
       "2984    681.04\n",
       "2985    685.11\n",
       "2986    693.10\n",
       "2987    700.21\n",
       "2988    695.49\n",
       "2989    698.77\n",
       "2990    696.36\n",
       "2991    706.63\n",
       "2992    716.09\n",
       "2993    721.64\n",
       "2994    717.98\n",
       "2995    721.95\n",
       "2996    720.85\n",
       "2997    734.78\n",
       "2998    737.96\n",
       "2999    742.19\n",
       "3000    739.63\n",
       "3001    743.74\n",
       "3002    740.77\n",
       "3003    739.42\n",
       "3004    742.77\n",
       "3005    746.91\n",
       "3006    769.79\n",
       "3007    773.88\n",
       "3008    772.07\n",
       "3009    774.18\n",
       "3010    772.61\n",
       "3011    783.22\n",
       "Name: Stock Price, Length: 3012, dtype: float64"
      ]
     },
     "execution_count": 10,
     "metadata": {},
     "output_type": "execute_result"
    }
   ],
   "source": [
    "google.apply(lambda stock_price: stock_price+1)"
   ]
  },
  {
   "cell_type": "code",
   "execution_count": 12,
   "metadata": {},
   "outputs": [
    {
     "data": {
      "text/plain": [
       "0    51.12\n",
       "1    55.10\n",
       "2    55.65\n",
       "3    53.38\n",
       "4    53.95\n",
       "Name: Stock Price, dtype: float64"
      ]
     },
     "execution_count": 12,
     "metadata": {},
     "output_type": "execute_result"
    }
   ],
   "source": [
    "google.apply(lambda stock_price: stock_price+1).head()"
   ]
  },
  {
   "cell_type": "code",
   "execution_count": 13,
   "metadata": {},
   "outputs": [
    {
     "data": {
      "text/plain": [
       "1009954.0"
      ]
     },
     "execution_count": 13,
     "metadata": {},
     "output_type": "execute_result"
    }
   ],
   "source": [
    "google.apply(lambda stock_price: stock_price+1).sum()"
   ]
  }
 ],
 "metadata": {
  "kernelspec": {
   "display_name": "Python 3",
   "language": "python",
   "name": "python3"
  },
  "language_info": {
   "codemirror_mode": {
    "name": "ipython",
    "version": 3
   },
   "file_extension": ".py",
   "mimetype": "text/x-python",
   "name": "python",
   "nbconvert_exporter": "python",
   "pygments_lexer": "ipython3",
   "version": "3.7.1"
  }
 },
 "nbformat": 4,
 "nbformat_minor": 2
}
