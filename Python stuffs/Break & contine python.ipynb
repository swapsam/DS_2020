{
 "cells": [
  {
   "cell_type": "code",
   "execution_count": 5,
   "metadata": {},
   "outputs": [
    {
     "name": "stdout",
     "output_type": "stream",
     "text": [
      "Please enter your name: \n",
      "swapnil\n",
      "Thank You swapnil\n"
     ]
    }
   ],
   "source": [
    "name = 'swapnil'\n",
    "while True:\n",
    "    print(\"Please enter your name: \")\n",
    "    name1 = input()\n",
    "    if name1 == name:\n",
    "        break\n",
    "print(\"Thank You\", name)"
   ]
  },
  {
   "cell_type": "code",
   "execution_count": 4,
   "metadata": {},
   "outputs": [
    {
     "name": "stdout",
     "output_type": "stream",
     "text": [
      "Who are you?\n",
      "swapnil\n",
      "Hello, swapnil, what is your password 'Its a fish'\n",
      "tuna\n",
      "Who are you?\n",
      "swapnil\n",
      "Hello, swapnil, what is your password 'Its a fish'\n",
      "swordfish\n",
      "Congrats !!!, Access Granted\n"
     ]
    }
   ],
   "source": [
    "while True:\n",
    "    print(\"Who are you?\")\n",
    "    name2 = input()\n",
    "    if name2 != 'swapnil':\n",
    "        continue\n",
    "    print(\"Hello, swapnil, what is your password 'Its a fish'\")\n",
    "    password = input()\n",
    "    if password == 'swordfish':\n",
    "        break\n",
    "print(\"Congrats !!!, Access Granted\")\n",
    "    "
   ]
  },
  {
   "cell_type": "code",
   "execution_count": null,
   "metadata": {},
   "outputs": [],
   "source": []
  },
  {
   "cell_type": "code",
   "execution_count": null,
   "metadata": {},
   "outputs": [],
   "source": []
  }
 ],
 "metadata": {
  "kernelspec": {
   "display_name": "Python 3",
   "language": "python",
   "name": "python3"
  },
  "language_info": {
   "codemirror_mode": {
    "name": "ipython",
    "version": 3
   },
   "file_extension": ".py",
   "mimetype": "text/x-python",
   "name": "python",
   "nbconvert_exporter": "python",
   "pygments_lexer": "ipython3",
   "version": "3.7.0"
  }
 },
 "nbformat": 4,
 "nbformat_minor": 2
}
