{
 "cells": [
  {
   "cell_type": "code",
   "execution_count": 13,
   "metadata": {},
   "outputs": [
    {
     "name": "stdout",
     "output_type": "stream",
     "text": [
      "Enter number of your choice to find the factorial: 7\n",
      "Factorial of 7 is 5040\n"
     ]
    }
   ],
   "source": [
    "def factorial(n):\n",
    "    return 1 if (n==1 or n==0) else n * factorial(n-1);\n",
    "num = int(input(\"Enter number of your choice to find the factorial: \"))\n",
    "print(\"Factorial of\", num,\"is\", factorial(num))"
   ]
  },
  {
   "cell_type": "code",
   "execution_count": 15,
   "metadata": {},
   "outputs": [
    {
     "name": "stdout",
     "output_type": "stream",
     "text": [
      "Enter a Number: 1\n",
      "Factorial of 1 is:  1\n"
     ]
    }
   ],
   "source": [
    "# This Python Program finds the factorial of a number\n",
    "\n",
    "def factorial(num):\n",
    "    \"\"\"This is a recursive function that calls\n",
    "   itself to find the factorial of given number\"\"\"\n",
    "    if num == 1:\n",
    "        return num\n",
    "    else:\n",
    "        return num * factorial(num - 1)\n",
    "\n",
    "\n",
    "# We will find the factorial of this number\n",
    "num = int(input(\"Enter a Number: \"))\n",
    "\n",
    "# if input number is negative then return an error message\n",
    "# elif the input number is 0 then display 1 as output\n",
    "# else calculate the factorial by calling the user defined function\n",
    "if num < 0:\n",
    "    print(\"Factorial cannot be found for negative numbers\")\n",
    "elif num == 0:\n",
    "    print(\"Factorial of 0 is 1\")\n",
    "else:\n",
    "    print(\"Factorial of\", num, \"is: \", factorial(num))\n"
   ]
  },
  {
   "cell_type": "code",
   "execution_count": 20,
   "metadata": {},
   "outputs": [
    {
     "name": "stdout",
     "output_type": "stream",
     "text": [
      "Enter a Number: 0\n",
      "Factorial of 0 is:  0\n"
     ]
    }
   ],
   "source": [
    "# This Python Program finds the factorial of a number\n",
    "\n",
    "def factorial(num):\n",
    "    \"\"\"This is a recursive function that calls\n",
    "   itself to find the factorial of given number\"\"\"\n",
    "    if num == 1:\n",
    "        return num\n",
    "    elif num == 0:\n",
    "        return 1\n",
    "    else:\n",
    "        return num * factorial(num - 1)\n",
    "\n",
    "\n",
    "# We will find the factorial of this number\n",
    "num = int(input(\"Enter a Number: \"))\n",
    "\n",
    "# if input number is negative then return an error message\n",
    "# elif the input number is 0 then display 1 as output\n",
    "# else calculate the factorial by calling the user defined function\n",
    "if num < 0:\n",
    "    print(\"Factorial cannot be found for negative numbers\")\n",
    "#elif num == 0:\n",
    "    #print(\"Factorial of 0 is 1\")\n",
    "else:\n",
    "    print(\"Factorial of\", num, \"is: \", factorial(num))\n"
   ]
  },
  {
   "cell_type": "code",
   "execution_count": null,
   "metadata": {},
   "outputs": [],
   "source": []
  }
 ],
 "metadata": {
  "kernelspec": {
   "display_name": "Python 3",
   "language": "python",
   "name": "python3"
  },
  "language_info": {
   "codemirror_mode": {
    "name": "ipython",
    "version": 3
   },
   "file_extension": ".py",
   "mimetype": "text/x-python",
   "name": "python",
   "nbconvert_exporter": "python",
   "pygments_lexer": "ipython3",
   "version": "3.7.0"
  }
 },
 "nbformat": 4,
 "nbformat_minor": 2
}
