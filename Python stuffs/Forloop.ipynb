{
 "cells": [
  {
   "cell_type": "code",
   "execution_count": 3,
   "metadata": {},
   "outputs": [
    {
     "name": "stdout",
     "output_type": "stream",
     "text": [
      "i is now 1\n",
      "i is now 4\n",
      "i is now 7\n",
      "i is now 10\n",
      "i is now 13\n",
      "i is now 16\n",
      "i is now 19\n"
     ]
    }
   ],
   "source": [
    "for i in range(1,20,3):\n",
    "    print(\"i is now {}\".format(i))"
   ]
  },
  {
   "cell_type": "code",
   "execution_count": 4,
   "metadata": {},
   "outputs": [
    {
     "name": "stdout",
     "output_type": "stream",
     "text": [
      "i is now 0\n",
      "i is now 1\n",
      "i is now 2\n",
      "i is now 3\n",
      "i is now 4\n",
      "i is now 5\n",
      "i is now 6\n",
      "i is now 7\n",
      "i is now 8\n",
      "i is now 9\n",
      "i is now 10\n",
      "i is now 11\n",
      "i is now 12\n",
      "i is now 13\n",
      "i is now 14\n",
      "i is now 15\n",
      "i is now 16\n",
      "i is now 17\n",
      "i is now 18\n",
      "i is now 19\n"
     ]
    }
   ],
   "source": [
    "for i in range(20):\n",
    "    print(\"i is now {}\".format(i))"
   ]
  },
  {
   "cell_type": "code",
   "execution_count": 5,
   "metadata": {},
   "outputs": [
    {
     "name": "stdout",
     "output_type": "stream",
     "text": [
      "i is now 20\n",
      "i is now 17\n",
      "i is now 14\n",
      "i is now 11\n",
      "i is now 8\n",
      "i is now 5\n",
      "i is now 2\n"
     ]
    }
   ],
   "source": [
    "for i in range(20,1,-3):\n",
    "    print(\"i is now {}\".format(i))"
   ]
  },
  {
   "cell_type": "code",
   "execution_count": 16,
   "metadata": {},
   "outputs": [
    {
     "name": "stdout",
     "output_type": "stream",
     "text": [
      "<class 'str'>\n",
      "9\n",
      ",\n",
      "2\n",
      "0\n",
      "0\n",
      ",\n",
      "5\n",
      ",\n",
      "1\n",
      "0\n",
      "0\n",
      ",\n",
      "4\n",
      ",\n",
      "6\n",
      ",\n",
      "6\n",
      "7\n",
      "8\n",
      ",\n",
      "3\n",
      "5\n",
      "9\n",
      ",\n",
      "4\n",
      "7\n",
      "8\n"
     ]
    }
   ],
   "source": [
    "num = '9,200,5,100,4,6,678,359,478'\n",
    "print(type(num))\n",
    "for i in range(0,len(num)):\n",
    "        print(num[i])"
   ]
  },
  {
   "cell_type": "code",
   "execution_count": 17,
   "metadata": {},
   "outputs": [
    {
     "name": "stdout",
     "output_type": "stream",
     "text": [
      "<class 'str'>\n",
      "9200510046678359478"
     ]
    }
   ],
   "source": [
    "#To remove commas this is program\n",
    "num = '9,200,5,100,4,6,678,359,478'\n",
    "print(type(num))\n",
    "for i in range(0,len(num)):\n",
    "    if num[i] in '0123456789':      \n",
    "        print(num[i],end='')"
   ]
  },
  {
   "cell_type": "code",
   "execution_count": 19,
   "metadata": {},
   "outputs": [
    {
     "name": "stdout",
     "output_type": "stream",
     "text": [
      "<class 'str'>\n",
      "The number is 9200510046678359478\n"
     ]
    }
   ],
   "source": [
    "num = '9,200,5,100,4,6,678,359,478'\n",
    "cleanednumber =''\n",
    "for i in range(0,len(num)):\n",
    "    if num[i] in '0123456789':\n",
    "        cleanednumber = cleanednumber + num[i]\n",
    "newnumber = int(cleanednumber)\n",
    "print(type(num))\n",
    "print(\"The number is {}\".format(newnumber))"
   ]
  },
  {
   "cell_type": "code",
   "execution_count": null,
   "metadata": {},
   "outputs": [],
   "source": []
  }
 ],
 "metadata": {
  "kernelspec": {
   "display_name": "Python 3",
   "language": "python",
   "name": "python3"
  },
  "language_info": {
   "codemirror_mode": {
    "name": "ipython",
    "version": 3
   },
   "file_extension": ".py",
   "mimetype": "text/x-python",
   "name": "python",
   "nbconvert_exporter": "python",
   "pygments_lexer": "ipython3",
   "version": "3.7.0"
  }
 },
 "nbformat": 4,
 "nbformat_minor": 2
}
