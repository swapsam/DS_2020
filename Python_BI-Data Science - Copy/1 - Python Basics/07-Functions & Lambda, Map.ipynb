{
 "cells": [
  {
   "cell_type": "markdown",
   "metadata": {},
   "source": [
    "### If Elfi else\n",
    "- Used to write custom code and retrun a value based on your calculation"
   ]
  },
  {
   "cell_type": "code",
   "execution_count": 1,
   "metadata": {},
   "outputs": [],
   "source": [
    "import numpy as np"
   ]
  },
  {
   "cell_type": "code",
   "execution_count": 2,
   "metadata": {},
   "outputs": [
    {
     "name": "stdout",
     "output_type": "stream",
     "text": [
      "not more than 5\n"
     ]
    }
   ],
   "source": [
    "#Use 4 spaces to indent, it works with 3 also but with a warning\n",
    "a = np.random.randint(1,10)\n",
    "if a > 3:\n",
    "    print(\"not more than 5\")\n",
    "elif a == 5:\n",
    "    print(\"Yes! it is\")\n",
    "else:\n",
    "    print(\"Nope keep trying\")"
   ]
  },
  {
   "cell_type": "markdown",
   "metadata": {},
   "source": [
    "### Functions\n",
    "- Used to write custom code and retrun a value based on your calculation"
   ]
  },
  {
   "cell_type": "code",
   "execution_count": 3,
   "metadata": {},
   "outputs": [
    {
     "data": {
      "text/plain": [
       "27"
      ]
     },
     "execution_count": 3,
     "metadata": {},
     "output_type": "execute_result"
    }
   ],
   "source": [
    "def mycube(x):\n",
    "    return x*x*x\n",
    "\n",
    "mycube(3)"
   ]
  },
  {
   "cell_type": "code",
   "execution_count": 4,
   "metadata": {},
   "outputs": [
    {
     "data": {
      "text/plain": [
       "<filter at 0x248f4c5acf8>"
      ]
     },
     "execution_count": 4,
     "metadata": {},
     "output_type": "execute_result"
    }
   ],
   "source": [
    "mynums = [3,2,6,8,4,6,2,9,5,7]\n",
    "\n",
    "#Use of function with Filter\n",
    "def is_even(n):\n",
    "    return n%2 == 0\n",
    "\n",
    "evens = filter(is_even, mynums)\n",
    "evens"
   ]
  },
  {
   "cell_type": "code",
   "execution_count": 5,
   "metadata": {},
   "outputs": [
    {
     "data": {
      "text/plain": [
       "[2, 6, 8, 4, 6, 2]"
      ]
     },
     "execution_count": 5,
     "metadata": {},
     "output_type": "execute_result"
    }
   ],
   "source": [
    "#Lists convert an iterable (tuple, string, set, dictionary) to a list.\n",
    "evens = list(filter(is_even, mynums))\n",
    "evens"
   ]
  },
  {
   "cell_type": "markdown",
   "metadata": {},
   "source": [
    "### Lambdas\n",
    "- We can use lambdas to write a function without a name\n",
    "- We can also pass functions as object in Python\n",
    "- Used when we need to just use it once"
   ]
  },
  {
   "cell_type": "code",
   "execution_count": 6,
   "metadata": {},
   "outputs": [],
   "source": [
    "#Assign the Lambda fucntion to a variables, since it is an object\n",
    "myfunc = lambda x: x*x*x"
   ]
  },
  {
   "cell_type": "code",
   "execution_count": 7,
   "metadata": {},
   "outputs": [
    {
     "data": {
      "text/plain": [
       "27"
      ]
     },
     "execution_count": 7,
     "metadata": {},
     "output_type": "execute_result"
    }
   ],
   "source": [
    "#Now you can use the variable to find cube of a number\n",
    "myfunc(3)"
   ]
  },
  {
   "cell_type": "code",
   "execution_count": 8,
   "metadata": {},
   "outputs": [],
   "source": [
    "#We can also use 2 variables, but it should be one expression\n",
    "mysqr = lambda a,b: a + b**2"
   ]
  },
  {
   "cell_type": "code",
   "execution_count": 9,
   "metadata": {},
   "outputs": [
    {
     "data": {
      "text/plain": [
       "3"
      ]
     },
     "execution_count": 9,
     "metadata": {},
     "output_type": "execute_result"
    }
   ],
   "source": [
    "mysqr(2,1)"
   ]
  },
  {
   "cell_type": "markdown",
   "metadata": {},
   "source": [
    "### Lambda with Filter, Map, Reduce\n",
    "- Filter is used to filter based on a criteria \n",
    "- It uses 2 arguments; one is function and second is list"
   ]
  },
  {
   "cell_type": "code",
   "execution_count": 10,
   "metadata": {},
   "outputs": [
    {
     "data": {
      "text/plain": [
       "[2, 6, 8, 4, 6, 2]"
      ]
     },
     "execution_count": 10,
     "metadata": {},
     "output_type": "execute_result"
    }
   ],
   "source": [
    "#Lets get the even numbers from this list\n",
    "mynums= [3,2,6,8,4,6,2,9,5,7]\n",
    "\n",
    "#Get evens using Lambda\n",
    "evens = list(filter(lambda x: x%2 == 0,mynums)) #check for true values\n",
    "evens"
   ]
  },
  {
   "cell_type": "code",
   "execution_count": 11,
   "metadata": {},
   "outputs": [
    {
     "data": {
      "text/plain": [
       "[4, 12, 16, 8, 12, 4]"
      ]
     },
     "execution_count": 11,
     "metadata": {},
     "output_type": "execute_result"
    }
   ],
   "source": [
    "#Now lets add 2 to each number; we use map for the same\n",
    "mydouble = list(map(lambda x:x*2, evens))\n",
    "mydouble"
   ]
  },
  {
   "cell_type": "code",
   "execution_count": 12,
   "metadata": {},
   "outputs": [
    {
     "data": {
      "text/plain": [
       "56"
      ]
     },
     "execution_count": 12,
     "metadata": {},
     "output_type": "execute_result"
    }
   ],
   "source": [
    "from functools import reduce\n",
    "#Now add all these value to return one value\n",
    "mysum = reduce(lambda a,b: a+b,mydouble)\n",
    "mysum"
   ]
  },
  {
   "cell_type": "code",
   "execution_count": 13,
   "metadata": {},
   "outputs": [
    {
     "name": "stdout",
     "output_type": "stream",
     "text": [
      "[90, 165, 260]\n"
     ]
    }
   ],
   "source": [
    "#Get y = m1x1+m2x2+m3x3\n",
    "m=[45,55,65]\n",
    "x=[2,3,4]\n",
    "bmi=list(map(lambda a,b:a*b,m,x))\n",
    "print (bmi)"
   ]
  }
 ],
 "metadata": {
  "kernelspec": {
   "display_name": "Python 3",
   "language": "python",
   "name": "python3"
  },
  "language_info": {
   "codemirror_mode": {
    "name": "ipython",
    "version": 3
   },
   "file_extension": ".py",
   "mimetype": "text/x-python",
   "name": "python",
   "nbconvert_exporter": "python",
   "pygments_lexer": "ipython3",
   "version": "3.6.6"
  }
 },
 "nbformat": 4,
 "nbformat_minor": 2
}
